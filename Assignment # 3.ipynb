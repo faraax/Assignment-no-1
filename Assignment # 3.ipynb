{
 "cells": [
  {
   "cell_type": "code",
   "execution_count": 2,
   "metadata": {},
   "outputs": [
    {
     "name": "stdout",
     "output_type": "stream",
     "text": [
      "Input First Number 12\n",
      "Input Second Number 2\n",
      "Input Operator i.e (+ for add, - for sub, * for multiply, / for divide , ** for power) **\n",
      "144\n"
     ]
    }
   ],
   "source": [
    "x = int(input(\"Input First Number \"))\n",
    "y = int(input(\"Input Second Number \"))\n",
    "z = input(\"Input Operator i.e (+ for add, - for sub, * for multiply, / for divide , ** for power) \")\n",
    "if z == \"+\":\n",
    "    result = x + y\n",
    "    print(result)\n",
    "elif z == \"-\":\n",
    "    result = x - y\n",
    "    print(result)\n",
    "elif z == \"*\":\n",
    "    result = x * y\n",
    "    print(result)\n",
    "elif z == \"/\":\n",
    "    result = x / y\n",
    "    print(result)\n",
    "elif z == \"**\":\n",
    "    result = x ** y\n",
    "    print(result)\n",
    "else:\n",
    "    print(\"Error: There is some mistake in your input\")"
   ]
  },
  {
   "cell_type": "code",
   "execution_count": 3,
   "metadata": {},
   "outputs": [
    {
     "name": "stdout",
     "output_type": "stream",
     "text": [
      "enter key?age\n",
      "enter value of key?26\n",
      "{'name': 'faraz', 'gender': 'male', 'age': '26'}\n"
     ]
    }
   ],
   "source": [
    "inp1 = input(\"enter key?\")\n",
    "inp2 = input(\"enter value of key?\")\n",
    "bio = {\"name\":\"faraz\",\"gender\": \"male\",inp1:inp2}\n",
    "print(bio)\n"
   ]
  },
  {
   "cell_type": "code",
   "execution_count": 4,
   "metadata": {},
   "outputs": [
    {
     "name": "stdout",
     "output_type": "stream",
     "text": [
      "total marks =  203\n"
     ]
    }
   ],
   "source": [
    "marks = {'Faraz':50,'Safeer':57,'abdullah':96}\n",
    "sum = sum(marks.values())\n",
    "print(\"total marks = \",sum)"
   ]
  },
  {
   "cell_type": "code",
   "execution_count": 7,
   "metadata": {},
   "outputs": [
    {
     "name": "stdout",
     "output_type": "stream",
     "text": [
      "{70, 40, 10, 80, 50, 20, 60, 30}\n"
     ]
    }
   ],
   "source": [
    "a = [10,20,30,20,10,50,60,40,80,50,40,70,50]\n",
    "dupitems = set()\n",
    "uniqueitems = []\n",
    "for x in a:\n",
    "    if x not in dup_items:\n",
    "        uniqueitems.append(x)\n",
    "        dupitems.add(x)\n",
    "\n",
    "print(dup_items)"
   ]
  },
  {
   "cell_type": "code",
   "execution_count": 11,
   "metadata": {},
   "outputs": [
    {
     "name": "stdout",
     "output_type": "stream",
     "text": [
      "Key is present in the dictionary\n",
      "Key is not present in the dictionary\n"
     ]
    }
   ],
   "source": [
    "d = {1: 10, 2: 20, 3: 30, 4: 40, 5: 50, 6: 60}\n",
    "def is_key_present(x):\n",
    "  if x in d:\n",
    "      print('Key is present in the dictionary')\n",
    "  else:\n",
    "      print('Key is not present in the dictionary')\n",
    "is_key_present(5)\n",
    "is_key_present(9)"
   ]
  },
  {
   "cell_type": "code",
   "execution_count": null,
   "metadata": {},
   "outputs": [],
   "source": []
  }
 ],
 "metadata": {
  "kernelspec": {
   "display_name": "Python 3",
   "language": "python",
   "name": "python3"
  },
  "language_info": {
   "codemirror_mode": {
    "name": "ipython",
    "version": 3
   },
   "file_extension": ".py",
   "mimetype": "text/x-python",
   "name": "python",
   "nbconvert_exporter": "python",
   "pygments_lexer": "ipython3",
   "version": "3.7.4"
  }
 },
 "nbformat": 4,
 "nbformat_minor": 2
}
