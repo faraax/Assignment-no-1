{
 "cells": [
  {
   "cell_type": "markdown",
   "metadata": {},
   "source": [
    "**Todo list application**"
   ]
  },
  {
   "cell_type": "code",
   "execution_count": 1,
   "metadata": {},
   "outputs": [
    {
     "name": "stdout",
     "output_type": "stream",
     "text": [
      "welcome user\n",
      "To View your list type show!\n",
      "to add type add\n",
      "to delect type del\n",
      " To quit type 'Q' sho\n",
      "there is no such a name sho in the list!\n",
      "To View your list type show!\n",
      "to add type add\n",
      "to delect type del\n",
      " To quit type 'Q' show\n",
      "['Wake up at 5:00', 'Breakfast at 8:00']\n",
      "To View your list type show!\n",
      "to add type add\n",
      "to delect type del\n",
      " To quit type 'Q' Go to Office at 9:00\n",
      "there is no such a name go to office at 9:00 in the list!\n",
      "To View your list type show!\n",
      "to add type add\n",
      "to delect type del\n",
      " To quit type 'Q' add\n",
      "write a name to add in your list!Go to Office at 8:30\n",
      "['Wake up at 5:00', 'Breakfast at 8:00', 'Go to Office at 8:30']\n",
      "To View your list type show!\n",
      "to add type add\n",
      "to delect type del\n",
      " To quit type 'Q' del\n",
      "['Wake up at 5:00', 'Breakfast at 8:00', 'Go to Office at 8:30']\n",
      "type a name to delect in from your list!Go to Office at 8:30\n",
      "['Wake up at 5:00', 'Breakfast at 8:00']\n",
      "To View your list type show!\n",
      "to add type add\n",
      "to delect type del\n",
      " To quit type 'Q' q\n"
     ]
    }
   ],
   "source": [
    "print(\"welcome user\")\n",
    "def todolist():\n",
    "    show = \"show\"\n",
    "    add = \"add\"\n",
    "    delect = \"del\"\n",
    "    stop = \"q\"\n",
    "    todo = [\"Wake up at 5:00\",\"Breakfast at 8:00\"]\n",
    "    while True:\n",
    "        inp = input(\"To View your list type show!\\nto add type add\\nto delect type del\\n To quit type 'Q' \")\n",
    "        inp = inp.lower()\n",
    "        if inp == show:\n",
    "            print(todo)\n",
    "        elif inp == add:\n",
    "            inp = input(\"write a name to add in your list!\")\n",
    "            todo.append(inp)\n",
    "            print(todo)\n",
    "        elif inp == delect:\n",
    "            print(todo)\n",
    "            inp = str(input(\"type a name to delect in from your list!\"))\n",
    "            todo.remove(inp)\n",
    "            print(todo)\n",
    "        elif inp == stop:\n",
    "            break\n",
    "        else:\n",
    "            print(\"there is no such a name \"+ inp + \" in the list!\")\n",
    "todolist()"
   ]
  },
  {
   "cell_type": "code",
   "execution_count": null,
   "metadata": {},
   "outputs": [],
   "source": []
  },
  {
   "cell_type": "code",
   "execution_count": null,
   "metadata": {},
   "outputs": [],
   "source": []
  }
 ],
 "metadata": {
  "kernelspec": {
   "display_name": "Python 3",
   "language": "python",
   "name": "python3"
  },
  "language_info": {
   "codemirror_mode": {
    "name": "ipython",
    "version": 3
   },
   "file_extension": ".py",
   "mimetype": "text/x-python",
   "name": "python",
   "nbconvert_exporter": "python",
   "pygments_lexer": "ipython3",
   "version": "3.7.4"
  }
 },
 "nbformat": 4,
 "nbformat_minor": 2
}
