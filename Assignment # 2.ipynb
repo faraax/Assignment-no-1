{
 "cells": [
  {
   "cell_type": "code",
   "execution_count": 6,
   "metadata": {},
   "outputs": [
    {
     "name": "stdout",
     "output_type": "stream",
     "text": [
      "Enter your gained Marks of English exam! out of 100! 58\n",
      "Enter your gained Marks of Urdu exam! out of 100! 69\n",
      "Enter your gained Marks of Maths exam! out of 100! 72\n",
      "Enter your gained Marks of P.Studies exam! out of 100! 39\n",
      "Enter your gained Marks of Computer science exam! out of 100! 57\n",
      "You got D Grade\n"
     ]
    }
   ],
   "source": [
    "eng = int(input(\"Enter your gained Marks of English exam! out of 100! \"));\n",
    "urdu = int(input(\"Enter your gained Marks of Urdu exam! out of 100! \"));\n",
    "math = int(input(\"Enter your gained Marks of Maths exam! out of 100! \"));\n",
    "pst = int(input(\"Enter your gained Marks of P.Studies exam! out of 100! \"));\n",
    "comp = int(input(\"Enter your gained Marks of Computer science exam! out of 100! \"));\n",
    "total = eng + urdu + math + pst + comp \n",
    "avg = total / 500\n",
    "per = avg * 100\n",
    "\n",
    "if per >= 80 and per <= 100 :\n",
    "    print(\"You got A Grade\")\n",
    "elif per >=70 and per < 80:\n",
    "    print(\"You got B Grade\")\n",
    "elif per >=60 and per < 70:\n",
    "    print(\"You got C Grade\")\n",
    "elif per >=45 and per < 60:\n",
    "    print(\"You got D Grade\")\n",
    "elif per >= 0 and  per < 45:\n",
    "    print(\"You Failed! Better Luck next time\")\n",
    "else :\n",
    "    print(\" you entered the wrong values\")"
   ]
  },
  {
   "cell_type": "code",
   "execution_count": 7,
   "metadata": {},
   "outputs": [
    {
     "name": "stdout",
     "output_type": "stream",
     "text": [
      "Enter a number: 16\n",
      "The value you entered is even number.\n"
     ]
    }
   ],
   "source": [
    "number = int(input(\"Enter a number: \"))\n",
    "mod = number % 2\n",
    "if mod > 0:\n",
    "    print(\"The value you entered is odd number.\")\n",
    "else:\n",
    "    print(\"The value you entered is even number.\")"
   ]
  },
  {
   "cell_type": "code",
   "execution_count": 11,
   "metadata": {},
   "outputs": [
    {
     "name": "stdout",
     "output_type": "stream",
     "text": [
      "enter any name!python\n",
      "6\n"
     ]
    }
   ],
   "source": [
    "name = input(\"enter any name!\")\n",
    "name = len(name)\n",
    "print (name)"
   ]
  },
  {
   "cell_type": "code",
   "execution_count": 16,
   "metadata": {},
   "outputs": [
    {
     "name": "stdout",
     "output_type": "stream",
     "text": [
      "90\n"
     ]
    }
   ],
   "source": [
    "arr = [1 ,25 ,15 ,35 ,14]\n",
    "\n",
    "print (arr[0]+arr[1]+arr[2]+arr[3]+arr[4])"
   ]
  },
  {
   "cell_type": "code",
   "execution_count": 18,
   "metadata": {},
   "outputs": [
    {
     "name": "stdout",
     "output_type": "stream",
     "text": [
      "45\n"
     ]
    }
   ],
   "source": [
    "arr = [1 ,45 ,15 ,35 ,14]\n",
    "\n",
    "print (max(arr))"
   ]
  },
  {
   "cell_type": "code",
   "execution_count": 23,
   "metadata": {},
   "outputs": [
    {
     "name": "stdout",
     "output_type": "stream",
     "text": [
      "1 1 2 3 "
     ]
    }
   ],
   "source": [
    "arr = [1, 1, 2, 3, 5, 8, 13, 21, 34, 55, 89]\n",
    "num = 0    \n",
    "while(num < len(arr)): \n",
    "    if arr[num] < 5: \n",
    "        print(arr[num], end = \" \") \n",
    "    num += 1"
   ]
  },
  {
   "cell_type": "code",
   "execution_count": null,
   "metadata": {},
   "outputs": [],
   "source": []
  }
 ],
 "metadata": {
  "kernelspec": {
   "display_name": "Python 3",
   "language": "python",
   "name": "python3"
  },
  "language_info": {
   "codemirror_mode": {
    "name": "ipython",
    "version": 3
   },
   "file_extension": ".py",
   "mimetype": "text/x-python",
   "name": "python",
   "nbconvert_exporter": "python",
   "pygments_lexer": "ipython3",
   "version": "3.7.4"
  }
 },
 "nbformat": 4,
 "nbformat_minor": 2
}
