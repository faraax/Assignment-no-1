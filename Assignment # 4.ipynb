{
 "cells": [
  {
   "cell_type": "code",
   "execution_count": 1,
   "metadata": {},
   "outputs": [
    {
     "name": "stdout",
     "output_type": "stream",
     "text": [
      "Faraz Ahmed \n",
      "Enter the Qualification of Faraz Inter\n",
      "{'first_name': 'Faraz ', 'last_name': 'Ahmed ', 'age': 26, 'city': 'Karachi ', 'qualifications': 'Inter'}\n",
      "Enter the Qualification of Faraz to delete it Inter\n",
      "{'first_name': 'Faraz ', 'last_name': 'Ahmed ', 'age': 26, 'city': 'Karachi '}\n"
     ]
    }
   ],
   "source": [
    "bio = {\"first_name\":\"Faraz \",\"last_name\":\"Ahmed \",\"age\":26,\"city\":\"Karachi \",\"qualifications\":\"\",}\n",
    "print(bio[\"first_name\"] + bio[\"last_name\"])\n",
    "data = input(\"Enter the Qualification of \"+ bio[\"first_name\"])\n",
    "bio[\"qualifications\"] = data\n",
    "print(bio)\n",
    "data = input(\"Enter the Qualification of \"+ bio[\"first_name\"] + \"to delete it \")\n",
    "\n",
    "if data == bio[\"qualifications\"]:\n",
    "    del bio[\"qualifications\"]\n",
    "else:\n",
    "    print(\"Qualifications does not match try again!\")\n",
    "print(bio)"
   ]
  },
  {
   "cell_type": "code",
   "execution_count": 2,
   "metadata": {},
   "outputs": [
    {
     "name": "stdout",
     "output_type": "stream",
     "text": [
      "Input any 1 Cities for the following? ('Tokyo','Bankok','London')bankok\n",
      "Population of Bankok is 8.281 million\n",
      "Bankok is in Thailand\n",
      "Fact about Bankok is As big cities in Asia go, Taipei is one of the safest for visitors\n"
     ]
    }
   ],
   "source": [
    "info ={\n",
    "    \"Tokyo\"  : {\"population\":\"13.9 million\",\"country\":\"Japan\",\"fact\":\"Tokyo is the largest metropolitan in the world, hosting over 36 million people spread over 3 prefectures\"},\n",
    "    \"Bankok\" : {\"population\":\"8.281 million\",\"country\":\"Thailand\",\"fact\":\"As big cities in Asia go, Taipei is one of the safest for visitors\"},\n",
    "    \"London\" : {\"population\":\"9.18 million\",\"country\":\"United Kingdom\",\"fact\":\"London is one of the richest cities, with more than 70 billionaires. We can see your  jaw dropping!\"}\n",
    "}\n",
    "data = input(\"Input any 1 Cities for the following? ('Tokyo','Bankok','London')\")\n",
    "data = data.title()\n",
    "print(\"Population of \" + data + \" is \" + info[data][\"population\"])\n",
    "print(data + \" is in \" + info[data][\"country\"])\n",
    "print(\"Fact about \" + data + \" is \" + info[data][\"fact\"])"
   ]
  },
  {
   "cell_type": "code",
   "execution_count": 3,
   "metadata": {},
   "outputs": [
    {
     "name": "stdout",
     "output_type": "stream",
     "text": [
      "What's your age?\n",
      "To Exit type exit 2\n",
      "  You get in free!\n",
      "What's your age?\n",
      "To Exit type exit 5\n",
      "  Your ticket is $10.\n",
      "What's your age?\n",
      "To Exit type exit 13\n",
      "  Your ticket is $15.\n",
      "What's your age?\n",
      "To Exit type exit exit\n"
     ]
    }
   ],
   "source": [
    "display = \"What's your age?\"\n",
    "display += \"\\nTo Exit type exit \"\n",
    "\n",
    "while True:\n",
    "    age = input(display)\n",
    "    if age == 'exit':\n",
    "        break\n",
    "    age = int(age)\n",
    "    if age < 3:\n",
    "        print(\"  You get in free!\")\n",
    "    elif age < 13:\n",
    "        print(\"  Your ticket is $10.\")\n",
    "    else:\n",
    "        print(\"  Your ticket is $15.\")"
   ]
  },
  {
   "cell_type": "code",
   "execution_count": 5,
   "metadata": {},
   "outputs": [
    {
     "name": "stdout",
     "output_type": "stream",
     "text": [
      "Alice in Wonderland is one of my favorite books.\n"
     ]
    }
   ],
   "source": [
    "def favorite_book(title):\n",
    "    print(title + \" is one of my favorite books.\")\n",
    "\n",
    "favorite_book('Alice in Wonderland')"
   ]
  },
  {
   "cell_type": "code",
   "execution_count": 6,
   "metadata": {},
   "outputs": [
    {
     "name": "stdout",
     "output_type": "stream",
     "text": [
      "HINT=\n",
      "try a number between 10 and 20\n",
      "enter your guess: 9\n",
      "your guess is wrong\n",
      "Play Again!\n",
      "enter your guess: 8\n",
      "your guess is wrong\n",
      "Play Again!\n",
      "enter your guess: 15\n",
      "your guess is wrong\n",
      "Play Again!\n"
     ]
    }
   ],
   "source": [
    "import random\n",
    "random=random.randint(1,30)\n",
    "print(\"HINT=\")\n",
    "if random>= 1 and random < 10:\n",
    "    print(\"try a number between 1 and 10\")\n",
    "elif random>= 10 and random< 20:\n",
    "    print(\"try a number between 10 and 20\")\n",
    "elif random>= 20 and random< 30:\n",
    "    print(\"try a number between 20 and 30\")\n",
    "for i in range(0,3):\n",
    "    user = int(input(\"enter your guess: \"))\n",
    "    if user < 1 or user > 30:\n",
    "        print(\"choose a number between 1 and 30\")\n",
    "    else:\n",
    "        if user == random:\n",
    "            print(\"your guess is right\")\n",
    "            break\n",
    "        else:\n",
    "            print(\"your guess is wrong\")\n",
    "            print(\"Play Again!\")"
   ]
  },
  {
   "cell_type": "code",
   "execution_count": null,
   "metadata": {},
   "outputs": [],
   "source": []
  }
 ],
 "metadata": {
  "kernelspec": {
   "display_name": "Python 3",
   "language": "python",
   "name": "python3"
  },
  "language_info": {
   "codemirror_mode": {
    "name": "ipython",
    "version": 3
   },
   "file_extension": ".py",
   "mimetype": "text/x-python",
   "name": "python",
   "nbconvert_exporter": "python",
   "pygments_lexer": "ipython3",
   "version": "3.7.4"
  }
 },
 "nbformat": 4,
 "nbformat_minor": 2
}
